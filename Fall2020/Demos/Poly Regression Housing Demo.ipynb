{
 "cells": [
  {
   "cell_type": "code",
   "execution_count": 1,
   "metadata": {},
   "outputs": [],
   "source": [
    "import numpy as np\n",
    "import sklearn\n",
    "import pandas as pd\n",
    "import seaborn as sns \n",
    "import matplotlib.pyplot as plt \n",
    "\n",
    "%matplotlib inline"
   ]
  },
  {
   "cell_type": "code",
   "execution_count": 2,
   "metadata": {},
   "outputs": [
    {
     "name": "stdout",
     "output_type": "stream",
     "text": [
      "[[6.3200e-03 1.8000e+01 2.3100e+00 ... 1.5300e+01 3.9690e+02 4.9800e+00]\n",
      " [2.7310e-02 0.0000e+00 7.0700e+00 ... 1.7800e+01 3.9690e+02 9.1400e+00]\n",
      " [2.7290e-02 0.0000e+00 7.0700e+00 ... 1.7800e+01 3.9283e+02 4.0300e+00]\n",
      " ...\n",
      " [6.0760e-02 0.0000e+00 1.1930e+01 ... 2.1000e+01 3.9690e+02 5.6400e+00]\n",
      " [1.0959e-01 0.0000e+00 1.1930e+01 ... 2.1000e+01 3.9345e+02 6.4800e+00]\n",
      " [4.7410e-02 0.0000e+00 1.1930e+01 ... 2.1000e+01 3.9690e+02 7.8800e+00]]\n",
      "(506, 13)\n"
     ]
    }
   ],
   "source": [
    "from sklearn.datasets import load_boston\n",
    "boston_dataset = load_boston()\n",
    "boston = pd.DataFrame(boston_dataset.data, columns=boston_dataset.feature_names)\n",
    "X = boston.to_numpy()\n",
    "y = boston_dataset.target\n",
    "print(X)\n",
    "print(np.shape(X))"
   ]
  },
  {
   "cell_type": "code",
   "execution_count": 3,
   "metadata": {},
   "outputs": [
    {
     "name": "stdout",
     "output_type": "stream",
     "text": [
      "(506, 105)\n"
     ]
    }
   ],
   "source": [
    "from sklearn.preprocessing import PolynomialFeatures\n",
    "from sklearn.model_selection import train_test_split\n",
    "\n",
    "poly = PolynomialFeatures(2)\n",
    "X = poly.fit_transform(X)\n",
    "print(np.shape(X))\n",
    "X_train, X_test, y_train, y_test = train_test_split(X, y, test_size = 0.2, random_state=5)"
   ]
  },
  {
   "cell_type": "code",
   "execution_count": 4,
   "metadata": {},
   "outputs": [
    {
     "data": {
      "text/plain": [
       "LinearRegression()"
      ]
     },
     "execution_count": 4,
     "metadata": {},
     "output_type": "execute_result"
    }
   ],
   "source": [
    "# Lets now train the model (2 Degree)\n",
    "from sklearn.linear_model import LinearRegression\n",
    "lin_model = LinearRegression()\n",
    "lin_model.fit(X_train, y_train)"
   ]
  },
  {
   "cell_type": "code",
   "execution_count": 6,
   "metadata": {},
   "outputs": [
    {
     "name": "stdout",
     "output_type": "stream",
     "text": [
      "Training RMSE = 2.424742963026643\n",
      "Training R2 = 0.9315569004651908\n",
      "Test RMSE = 3.1965276513308156\n",
      "Test R2 = 0.8694943908787136\n"
     ]
    }
   ],
   "source": [
    "# Model Evaluation for 2 Degree Polynomial\n",
    "# Lets first evaluate on training set\n",
    "from sklearn.metrics import r2_score\n",
    "\n",
    "def rmse(predictions, targets):\n",
    "    return np.sqrt(((predictions - targets) ** 2).mean())\n",
    "\n",
    "y_pred_train = lin_model.predict(X_train)\n",
    "rmse_train = rmse(y_pred_train, y_train)\n",
    "r2_train = r2_score(y_train, y_pred_train)\n",
    "print(\"Training RMSE = \" + str(rmse_train))\n",
    "print(\"Training R2 = \" + str(r2_train))\n",
    "\n",
    "# Let us now evaluate on the test set\n",
    "y_pred_test = lin_model.predict(X_test)\n",
    "rmse_test = rmse(y_pred_test, y_test)\n",
    "r2_test = r2_score(y_test, y_pred_test)\n",
    "print(\"Test RMSE = \" + str(rmse_test))\n",
    "print(\"Test R2 = \" + str(r2_test))\n"
   ]
  },
  {
   "cell_type": "code",
   "execution_count": 7,
   "metadata": {},
   "outputs": [
    {
     "name": "stdout",
     "output_type": "stream",
     "text": [
      "(506, 204156)\n"
     ]
    }
   ],
   "source": [
    "from sklearn.preprocessing import PolynomialFeatures\n",
    "from sklearn.model_selection import train_test_split\n",
    "\n",
    "poly = PolynomialFeatures(3)\n",
    "X = poly.fit_transform(X)\n",
    "print(np.shape(X))\n",
    "X_train, X_test, y_train, y_test = train_test_split(X, y, test_size = 0.2, random_state=5)"
   ]
  },
  {
   "cell_type": "code",
   "execution_count": 8,
   "metadata": {},
   "outputs": [
    {
     "data": {
      "text/plain": [
       "LinearRegression()"
      ]
     },
     "execution_count": 8,
     "metadata": {},
     "output_type": "execute_result"
    }
   ],
   "source": [
    "# Lets now train the model (2 Degree)\n",
    "from sklearn.linear_model import LinearRegression\n",
    "lin_model = LinearRegression()\n",
    "lin_model.fit(X_train, y_train)"
   ]
  },
  {
   "cell_type": "code",
   "execution_count": 9,
   "metadata": {},
   "outputs": [
    {
     "name": "stdout",
     "output_type": "stream",
     "text": [
      "Training RMSE = 7.152326458986158e-10\n",
      "Training R2 = 1.0\n",
      "Test RMSE = 602.5361717371939\n",
      "Test R2 = -4636.014931816337\n"
     ]
    }
   ],
   "source": [
    "# Model Evaluation for 2 Degree Polynomial\n",
    "# Lets first evaluate on training set\n",
    "from sklearn.metrics import r2_score\n",
    "\n",
    "def rmse(predictions, targets):\n",
    "    return np.sqrt(((predictions - targets) ** 2).mean())\n",
    "\n",
    "y_pred_train = lin_model.predict(X_train)\n",
    "rmse_train = rmse(y_pred_train, y_train)\n",
    "r2_train = r2_score(y_train, y_pred_train)\n",
    "print(\"Training RMSE = \" + str(rmse_train))\n",
    "print(\"Training R2 = \" + str(r2_train))\n",
    "\n",
    "# Let us now evaluate on the test set\n",
    "y_pred_test = lin_model.predict(X_test)\n",
    "rmse_test = rmse(y_pred_test, y_test)\n",
    "r2_test = r2_score(y_test, y_pred_test)\n",
    "print(\"Test RMSE = \" + str(rmse_test))\n",
    "print(\"Test R2 = \" + str(r2_test))"
   ]
  }
 ],
 "metadata": {
  "kernelspec": {
   "display_name": "Python 3",
   "language": "python",
   "name": "python3"
  },
  "language_info": {
   "codemirror_mode": {
    "name": "ipython",
    "version": 3
   },
   "file_extension": ".py",
   "mimetype": "text/x-python",
   "name": "python",
   "nbconvert_exporter": "python",
   "pygments_lexer": "ipython3",
   "version": "3.7.0"
  }
 },
 "nbformat": 4,
 "nbformat_minor": 2
}
